{
  "nbformat": 4,
  "nbformat_minor": 0,
  "metadata": {
    "colab": {
      "provenance": [],
      "authorship_tag": "ABX9TyPw8Xnk/ubjJnS0fnd2HpZt",
      "include_colab_link": true
    },
    "kernelspec": {
      "name": "python3",
      "display_name": "Python 3"
    },
    "language_info": {
      "name": "python"
    }
  },
  "cells": [
    {
      "cell_type": "markdown",
      "metadata": {
        "id": "view-in-github",
        "colab_type": "text"
      },
      "source": [
        "<a href=\"https://colab.research.google.com/github/yamaniyuda/pra-uas-s-2/blob/master/use_case_uas_s_2.ipynb\" target=\"_parent\"><img src=\"https://colab.research.google.com/assets/colab-badge.svg\" alt=\"Open In Colab\"/></a>"
      ]
    },
    {
      "cell_type": "markdown",
      "source": [
        "# Task 1\n",
        "\n",
        "> Algoritma:\n",
        "1. Mulai\n",
        "2. Inisialisasi variabel `N`, `M`, `A`, dan `B` dari input sebagai string\n",
        "3. Inisialisasi variabel `graph` dan atur nilai defaultnya sebagai dictionary dengan key berupa node dan value berupa dictionary kosong\n",
        "4. Lakukan perulangan sebanyak `M` untuk mendapatkan data edge `u`, `v`, dan `w` dari input\n",
        "    1. Tambahkan edge ke graph untuk kedua arah (u ke v dan v ke u) dengan bobot `w`\n",
        "5. Panggil fungsi `find_shortest_paths` dengan parameter `A` sebagai titik awal\n",
        "    1. Inisialisasi priority queue `pq` dengan elemen (0, A, [A])\n",
        "    2. Inisialisasi dictionary `min_distance` dengan key berupa node dan value berupa nilai maksimum\n",
        "    3. Atur `min_distance[A]` ke 0\n",
        "    4. Inisialisasi dictionary `all_paths` dengan key berupa node dan value berupa list kosong\n",
        "    5. Atur `all_paths[A]` ke list yang berisi list [A]\n",
        "    6. Lakukan perulangan while `pq` tidak kosong:\n",
        "        1. Ambil elemen dengan jarak minimum `current_distance`, `current_node`, dan `path` dari `pq`\n",
        "        2. Jika `current_distance` lebih besar dari `min_distance[current_node]`, lanjutkan ke iterasi berikutnya\n",
        "        3. Lakukan perulangan untuk setiap `neighbor` dari `current_node`:\n",
        "            1. Hitung jarak `distance` sebagai `current_distance` + bobot edge dari `current_node` ke `neighbor`\n",
        "            2. Jika `distance` lebih kecil dari `min_distance[neighbor]`:\n",
        "                1. Atur `min_distance[neighbor]` ke `distance`\n",
        "                2. Tambahkan elemen (distance, neighbor, path + [neighbor]) ke `pq`\n",
        "                3. Atur `all_paths[neighbor]` ke list yang berisi path + [neighbor]\n",
        "            3. Jika `distance` sama dengan `min_distance[neighbor]`:\n",
        "                1. Tambahkan path + [neighbor] ke `all_paths[neighbor]`\n",
        "                2. Tambahkan elemen (distance, neighbor, path + [neighbor]) ke `pq`\n",
        "7. Panggil fungsi `print_avg_point` dengan parameter `all_paths`, `min_distance`, `A`, dan `B`\n",
        "    1. Jika `min_distance[B]` sama dengan nilai maksimum:\n",
        "        1. Print bahwa tidak ada rute dari `A` ke `B`\n",
        "    2. Jika tidak:\n",
        "        1. Inisialisasi dictionary `memo`\n",
        "        2. Lakukan perulangan untuk setiap jalur di `all_paths[B]`:\n",
        "            1. Lakukan perulangan untuk setiap node di jalur tersebut:\n",
        "                1. Tambahkan 2 ke nilai `memo[node]` jika node sudah ada di `memo`\n",
        "                2. Jika tidak, atur nilai `memo[node]` ke 2\n",
        "        3. Lakukan perulangan untuk setiap key di `memo`:\n",
        "            1. Bagi nilai `memo[key]` dengan jumlah jalur di `all_paths[B]`\n",
        "        4. Urutkan `memo` berdasarkan key\n",
        "        5. Print setiap nilai dari `memo` yang sudah diurutkan. Jika key tidak ditemukan di `memo`, print 0\n",
        "8. Selesai\n",
        "\n",
        "**O(V + E log V)**\n",
        "\n"
      ],
      "metadata": {
        "id": "Qj5n_8A8LYus"
      }
    },
    {
      "cell_type": "code",
      "execution_count": 2,
      "metadata": {
        "colab": {
          "base_uri": "https://localhost:8080/"
        },
        "id": "MCrpg7VvLKOc",
        "outputId": "82221c21-4c2e-4c22-e92f-153a196b70da"
      },
      "outputs": [
        {
          "output_type": "stream",
          "name": "stdout",
          "text": [
            "3 3 1 3\n",
            "1 3 2\n",
            "2 3 1\n",
            "1 2 1\n",
            "2\n",
            "1\n",
            "2\n"
          ]
        }
      ],
      "source": [
        "import sys\n",
        "import heapq\n",
        "\n",
        "\n",
        "class Solve:\n",
        "    def __init__(self):\n",
        "        N, M, self.A, self.B = list(map(str, input().split()))\n",
        "\n",
        "        self.graph = {str(i): {} for i in range(1, int(N) + 1)}\n",
        "\n",
        "        input_node = []\n",
        "\n",
        "        for _ in range(int(M)):\n",
        "            input_node.append(list(map(str, input().split())))\n",
        "\n",
        "        for node in input_node:\n",
        "            u, v, w = node[0], node[1], int(node[2])\n",
        "            self.graph[u][v] = w\n",
        "            self.graph[v][u] = w  # Make the graph undirected\n",
        "\n",
        "        paths, min_distance = self.find_shortest_paths(self.A)\n",
        "        self.print_avg_point(paths, min_distance, self.A, self.B)\n",
        "\n",
        "    def get_nodes(self):\n",
        "        return self.graph.keys()\n",
        "\n",
        "    def get_neighbors(self, node):\n",
        "        return self.graph[node].keys()\n",
        "\n",
        "    def find_shortest_paths(self, start_node):\n",
        "        pq = [(0, start_node, [start_node])]\n",
        "        min_distance = {node: sys.maxsize for node in self.get_nodes()}\n",
        "        min_distance[start_node] = 0\n",
        "        all_paths = {node: [] for node in self.get_nodes()}\n",
        "        all_paths[start_node] = [[start_node]]\n",
        "\n",
        "        while pq:\n",
        "            current_distance, current_node, path = heapq.heappop(pq)\n",
        "\n",
        "            if current_distance > min_distance[current_node]:\n",
        "                continue\n",
        "\n",
        "            for neighbor in self.get_neighbors(current_node):\n",
        "                distance = current_distance + \\\n",
        "                    self.graph[current_node][neighbor]\n",
        "                if distance < min_distance[neighbor]:\n",
        "                    min_distance[neighbor] = distance\n",
        "                    heapq.heappush(pq, (distance, neighbor, path + [neighbor]))\n",
        "                    all_paths[neighbor] = [path + [neighbor]]\n",
        "                elif distance == min_distance[neighbor]:\n",
        "                    all_paths[neighbor].append(path + [neighbor])\n",
        "                    heapq.heappush(pq, (distance, neighbor, path + [neighbor]))\n",
        "\n",
        "        return all_paths, min_distance\n",
        "\n",
        "    def print_avg_point(self, all_paths, min_distance, start_node, target_node):\n",
        "        if min_distance[target_node] == sys.maxsize:\n",
        "            print(f\"Tidak ada rute dari {start_node} ke {target_node}.\")\n",
        "        else:\n",
        "            memo = {}\n",
        "\n",
        "            for i in range(len(all_paths[target_node])):\n",
        "                for j in range(len(all_paths[target_node][i])):\n",
        "                    if all_paths[target_node][i][j] in memo:\n",
        "                        memo[all_paths[target_node][i][j]] += 2\n",
        "                    else:\n",
        "                        memo[all_paths[target_node][i][j]] = 2\n",
        "\n",
        "            for key in memo:\n",
        "                memo[key] //= len(all_paths[target_node])\n",
        "\n",
        "            sorted_data = {key: memo[key] for key in sorted(memo)}\n",
        "\n",
        "            keys = list(sorted_data.keys())\n",
        "            for i in range(1, int(keys[-1]) + 1):\n",
        "                try:\n",
        "                    print(sorted_data[str(i)])\n",
        "                    # if keys[i] in sorted_data:\n",
        "                except:\n",
        "                    print(0)\n",
        "\n",
        "\n",
        "if __name__ == '__main__':\n",
        "    Solve()"
      ]
    },
    {
      "cell_type": "markdown",
      "source": [
        "# Task 2\n",
        "\n",
        "\n",
        "\n",
        "> Algoritma.\n",
        "1.  Mulai\n",
        "2.  Inisialisasi variabel n, a, b dan jadikan variabel penerima input dengan ketentuan:\n",
        "    n : diconversi ke tipe data number\n",
        "    a : diconversi menjadi list\n",
        "    b : diconversi menjadi list\n",
        "3.  Panggil fungsi `get_min_operations` yang mana didalamnya melakukan hal sebagai berikut:\n",
        "    1.  Inisialisasi variabel `segments` dan `i` serta atur nilai default 0\n",
        "    2.  Lakukan perulangan menggunakan while untuk ketentuan (i < n)\n",
        "    3.  Lakukan pengkondisian jika a[i] > b[i] maka lakukan langkah dibawah ini:\n",
        "          1.  Increment variabel `segments`\n",
        "          2.  Inisialisasi variabel `start` dengan nilai `i`\n",
        "          3.  Lakukan pengulangan dengan syarat (i < n and a[i] > b[i]) kemudian increment variabel `i`\n",
        "          4.  Inisialisasi variabel `end` dan atur nilainya dengan `i`\n",
        "          5.  Tukar variabel `a` dan `b` dengan slicing menggunakan `start` sampai `end`\n",
        "    4.  Jila salah maka hanya increment variabel `i`\n",
        "    5.  Kembalikan variabel `segments`\n",
        "4.  Selesai\n",
        "\n",
        "**O(N)**\n",
        "\n"
      ],
      "metadata": {
        "id": "LngUM7aNMChh"
      }
    },
    {
      "cell_type": "code",
      "source": [
        "class Solve:\n",
        "    def __init__(self):\n",
        "        self.n = int(input())\n",
        "        self.a = list(input())\n",
        "        self.b = list(input())\n",
        "\n",
        "        print(self.get_min_operations())\n",
        "\n",
        "    def get_min_operations(self):\n",
        "        segments = 0\n",
        "        i = 0\n",
        "\n",
        "        while i < self.n:\n",
        "            if self.a[i] > self.b[i]:\n",
        "                segments += 1\n",
        "                start = i\n",
        "                while i < self.n and self.a[i] > self.b[i]:\n",
        "                    i += 1\n",
        "                end = i\n",
        "                self.a[start:end], self.b[start:end] = self.b[start:end], self.a[start:end]\n",
        "            else:\n",
        "                i += 1\n",
        "        return segments\n",
        "\n",
        "\n",
        "if __name__ == \"__main__\":\n",
        "    Solve()\n"
      ],
      "metadata": {
        "colab": {
          "base_uri": "https://localhost:8080/"
        },
        "id": "7mXfXAunMasW",
        "outputId": "be233572-8e07-40d3-8215-b0b7b5da63cd"
      },
      "execution_count": 3,
      "outputs": [
        {
          "output_type": "stream",
          "name": "stdout",
          "text": [
            "7\n",
            "bandung\n",
            "jakarta\n",
            "2\n"
          ]
        }
      ]
    },
    {
      "cell_type": "markdown",
      "source": [
        "# Task 3\n",
        "\n",
        "\n",
        "\n",
        "> Algoritma.\n",
        "1.  Mulai\n",
        "2.  Inisialisasi variabel `n` dan set sebagai inputan serta converter menjadi number\n",
        "3.  Inisialisasi variabel `graph` dan atur nilai defaultnya yaitu dictionary\n",
        "4.  Lakukan perulangan sebanyak `n` untuk membuat sebuah graph dengan variabel `key` dan `value` sebagai inputan\n",
        "5.  Inisialisasi `source` dan set sebagai inputan yang akan digunakan sebagai titik awal\n",
        "6.  Panggil fungsi `bfs` dan didalamnya dilakukan beberapa step sebagai berikut:\n",
        "    1.  Inisialisasi `visited` dan `queue` dan set nilai default kedunya sebagai array dengan element pertama `source`\n",
        "    2.  Lakukan perulangan while dengan queue:\n",
        "        1.  Ambil `vertex` pertama dari `queue`\n",
        "        2.  Lakukan perulangan dengan tetangga dari `vertex`\n",
        "        3.  Jika `neighbor` tidak ada di daftar visited maka tambahkan `neighbor` ke `visited` dan `queue`\n",
        "        4.  Print hasilnya\n",
        "7.  Selesai\n",
        "\n",
        "**O(V + E)**\n",
        "\n"
      ],
      "metadata": {
        "id": "UgpuirTCMiR9"
      }
    },
    {
      "cell_type": "code",
      "source": [
        "class Solve:\n",
        "    def __init__(self):\n",
        "        n = int(input())\n",
        "        self.graph = dict()\n",
        "\n",
        "        for _ in range(n):\n",
        "            key = input()\n",
        "            value = sorted(input().split())\n",
        "            self.graph[key] = value\n",
        "\n",
        "        self.source = input()\n",
        "        self.bfs()\n",
        "\n",
        "    def bfs(self):\n",
        "        visited = [self.source]\n",
        "        queue = [self.source]\n",
        "\n",
        "        while queue:\n",
        "            vertex = queue.pop(0)\n",
        "\n",
        "            for neighbor in self.graph[vertex]:\n",
        "                if neighbor not in visited:\n",
        "                    visited.append(neighbor)\n",
        "                    queue.append(neighbor)\n",
        "\n",
        "            print(vertex, end=\" -> \" if queue else None)\n",
        "\n",
        "\n",
        "if __name__ == \"__main__\":\n",
        "    Solve()"
      ],
      "metadata": {
        "colab": {
          "base_uri": "https://localhost:8080/"
        },
        "id": "Iunheh7NMxjf",
        "outputId": "4c91bf8a-8540-4060-ca34-be315672080e"
      },
      "execution_count": 5,
      "outputs": [
        {
          "output_type": "stream",
          "name": "stdout",
          "text": [
            "5\n",
            "Jennie\n",
            "Lisa Johnny\n",
            "Joshua\n",
            "Jennie Mark\n",
            "Mark\n",
            "Lisa Johnny Joshua\n",
            "Johnny\n",
            "Mark\n",
            "Lisa\n",
            "Jennie\n",
            "Johnny\n",
            "Johnny -> Mark -> Joshua -> Lisa -> Jennie\n"
          ]
        }
      ]
    },
    {
      "cell_type": "markdown",
      "source": [
        "# Task 4\n",
        "\n",
        "\n",
        "\n",
        "> Algoritma:\n",
        "1.  Mulai  \n",
        "2.  Inisialisasi `n` dengan set sebagai inputan lalu di conversi ke number\n",
        "3.  Inisialisasi `orders` dengan default value sebagai []\n",
        "4.  Lakukan perulangan dengan `range(n)`\n",
        "5.  Split nilai inputan dan masukan ke dalam variabel `c`, `p`, `t`, dan `d`\n",
        "6.  Lalu tambahkan kedalam `orders` dengan nilai list sebagai berikut `(c, int(p), int(t) + int(d))`\n",
        "7.  Lakukan sort pada order berdasarakan element ke 2 dari lalu urutkan berdasarkan yang terbesar  dari element ke - 1\n",
        "8.  Panggil fungsi `max_order` dan didalamnya melakukan beberapa proses sebagai berikut:\n",
        "    1.  Inisialisasi variabel `profit` dengan default 0\n",
        "    2.  Inisialisasi variabel `job_orders` dengan nilai orders\n",
        "    3.  Lalukan try except yang mana except akan memanggil pas saja\n",
        "    4.  Lakukan perulangan dengan `range(len(job_orders))` lalu di tampung kedalam variabel `i`\n",
        "    5.  Lakukan perulangan dengan `range(i + 1, len(job_orders) - 1)` lalu di tampung kedalam variabel `j`\n",
        "    6.  Lakukan pengecekan `job_orders[i][2] == job_orders[j][2]` jika benar maka pop nilai dengan ketentuan `j if job_orders[i][1] >= job_orders[j][1] else i`\n",
        "    7.  Perbarui variabel `profit` dengan `ob_orders[i][1]`\n",
        "    8.  Print element ke 0 dari setiap element dari job_orders\n",
        "    9.  Lalu tampilkan profit\n",
        "9.  Selesa\n",
        "\n",
        "Algoritma:\n",
        "1.  Mulai  \n",
        "2.  Inisialisasi `n` dengan set sebagai inputan lalu di conversi ke number\n",
        "3.  Inisialisasi `orders` dengan default value sebagai []\n",
        "4.  Lakukan perulangan dengan `range(n)`\n",
        "5.  Split nilai inputan dan masukan ke dalam variabel `c`, `p`, `t`, dan `d`\n",
        "6.  Lalu tambahkan kedalam `orders` dengan nilai list sebagai berikut `(c, int(p), int(t) + int(d))`\n",
        "7.  Lakukan sort pada order berdasarakan element ke 2 dari lalu urutkan berdasarkan yang terbesar  dari element ke - 1\n",
        "8.  Panggil fungsi `max_order` dan didalamnya melakukan beberapa proses sebagai berikut:\n",
        "    1.  Inisialisasi variabel `profit` dengan default 0\n",
        "    2.  Inisialisasi variabel `job_orders` dengan nilai orders\n",
        "    3.  Lalukan try except yang mana except akan memanggil pas saja\n",
        "    4.  Lakukan perulangan dengan `range(len(job_orders))` lalu di tampung kedalam variabel `i`\n",
        "    5.  Lakukan perulangan dengan `range(i + 1, len(job_orders) - 1)` lalu di tampung kedalam variabel `j`\n",
        "    6.  Lakukan pengecekan `job_orders[i][2] == job_orders[j][2]` jika benar maka pop nilai dengan ketentuan `j if job_orders[i][1] >= job_orders[j][1] else i`\n",
        "    7.  Perbarui variabel `profit` dengan `ob_orders[i][1]`\n",
        "    8.  Print element ke 0 dari setiap element dari job_orders\n",
        "    9.  Lalu tampilkan profit\n",
        "9.  Selesa\n",
        "\n",
        "**O(n^3)**\n",
        "\n"
      ],
      "metadata": {
        "id": "p1HMHdJJNpgs"
      }
    },
    {
      "cell_type": "code",
      "source": [
        "class Solve:\n",
        "    def __init__(self):\n",
        "        self.n = int(input())\n",
        "        self.orders = []\n",
        "\n",
        "        for _ in range(self.n):\n",
        "            c, p, t, d = input().split()\n",
        "            self.orders.append(\n",
        "                (c, int(p), int(t) + int(d))\n",
        "            )\n",
        "\n",
        "        self.orders.sort(key=lambda x: (x[2], -x[1]))\n",
        "        self.max_order()\n",
        "\n",
        "    def max_order(self):\n",
        "        profit = 0\n",
        "        job_orders = self.orders\n",
        "\n",
        "        try:\n",
        "            for i in range(len(job_orders)):\n",
        "                for j in range(i + 1, len(job_orders) - 1):\n",
        "                    if job_orders[i][2] == job_orders[j][2]:\n",
        "\n",
        "                        # pop melakukan iterasi didalamnya\n",
        "                        job_orders.pop(\n",
        "                            j if job_orders[i][1] >= job_orders[j][1] else i\n",
        "                        )\n",
        "\n",
        "                profit += job_orders[i][1]\n",
        "        except:\n",
        "            pass\n",
        "\n",
        "\n",
        "        print(\" \".join(item[0] for item in job_orders))\n",
        "        print(profit)\n",
        "\n",
        "\n",
        "if __name__ == \"__main__\":\n",
        "    Solve()"
      ],
      "metadata": {
        "colab": {
          "base_uri": "https://localhost:8080/"
        },
        "id": "2mDP7sdvNr0V",
        "outputId": "2dc863b9-834d-4560-972b-e46cbf8d05a0"
      },
      "execution_count": 8,
      "outputs": [
        {
          "output_type": "stream",
          "name": "stdout",
          "text": [
            "4\n",
            "Candy 10 5 5\n",
            "Shelly 21 6 7\n",
            "Angle 13 4 6\n",
            "Arin 18 3 8\n",
            "Angle Arin Shelly\n",
            "52\n"
          ]
        }
      ]
    },
    {
      "cell_type": "markdown",
      "source": [
        "# Task 5\n",
        "\n",
        "\n",
        "\n",
        "> Algoritma.\n",
        "1.  Mulia\n",
        "2.  Inisialisasi variabel `n` dan `v` sebagai inputan\n",
        "3.  Inisialisasi `memo` sebagai dictionary yang akan digunakan sebagai memorize\n",
        "4.  Panggil fungsi `maximum_pleasure` dan fungsi ini memiliki dua argumen yaitu `v` sebagai list number\n",
        "    dan `start` sebagai start index kemudian didalam fungsi menjalankan beberapa langkah sebagai berikut:\n",
        "    1.  Lakukan pengecekan jika `start` sama dengan None maka dilakukan beberapa langkah berikut:\n",
        "        1.  Inisialisasi variabel `a` dengan nilai nya memanggil fungsi dirinya sendiri dengan start nya adalah 0\n",
        "        2.  Inisialisasi variabel `b` dengan nilai nya memanggil fungsi dirinya sendiri dengan start nya adalah 1\n",
        "        3.  Return max dari `a` dan `b`\n",
        "    2.  Jila salah maka lakukan beberapa langkah dibawah ini:\n",
        "        1.  Jika `start` ada didalam `memo` maka return langsung `memo` dengan index `start`\n",
        "        2.  Inisialisasi variabel `result` dengan default nilai 0\n",
        "        3.  Lakukan try except ketikga except maka langsung pass saja\n",
        "        4.  Perbarui variabel `result` dengan `v[start]` ditambah `maximum_pleasure(v, start + 2)`\n",
        "        5.  Tambahkan `memo[start]` dengan `result`\n",
        "        6.  Return result\n",
        "5.  Selesai.\n",
        "\n",
        "\n",
        "**O(N)**\n",
        "\n"
      ],
      "metadata": {
        "id": "w1Ez4klyOu_T"
      }
    },
    {
      "cell_type": "code",
      "source": [
        "class Solve:\n",
        "    def __init__(self):\n",
        "        n = int(input())\n",
        "        v = list(map(int, input().split()))[:n]\n",
        "        self.memo = {}\n",
        "        print(self.maximum_pleasure(v))\n",
        "\n",
        "    def maximum_pleasure(self, v, start=None):\n",
        "        if start is None:\n",
        "            a = self.maximum_pleasure(v, 0)\n",
        "            b = self.maximum_pleasure(v, 1)\n",
        "            return max(a, b)\n",
        "        else:\n",
        "            if start in self.memo:\n",
        "                return self.memo[start]\n",
        "            result = 0\n",
        "            try:\n",
        "                result = v[start] + self.maximum_pleasure(v, start + 2)\n",
        "                self.memo[start] = result\n",
        "            except:\n",
        "                pass\n",
        "            return result\n",
        "\n",
        "\n",
        "if __name__ == \"__main__\":\n",
        "    Solve()"
      ],
      "metadata": {
        "colab": {
          "base_uri": "https://localhost:8080/"
        },
        "id": "-BDFACqdPDmQ",
        "outputId": "55e72c38-6884-4d71-8ca2-15c0c92273fe"
      },
      "execution_count": 9,
      "outputs": [
        {
          "output_type": "stream",
          "name": "stdout",
          "text": [
            "5\n",
            "6 7 1 30 8\n",
            "37\n"
          ]
        }
      ]
    },
    {
      "cell_type": "markdown",
      "source": [
        "# Task 6\n",
        "\n",
        "\n",
        "\n",
        "> Algoritma:\n",
        "1.  Inisialisasi variabel `n` dengan set sebagai inputan lalu di convert ke number\n",
        "2.  Inisialisasi variabel `p` dengan set sebagai inputan lalu di convert ke list number\n",
        "3.  Inisialisasi variabel `memo` dengan nilai matrix berordo (n + 1 X n + 1) lalu default elementnya\n",
        "    yaitu -1\n",
        "4.  Cetak hasil dari fungsi `matrix_chain_order` didalam fungsi ini menjalankan beberapa langkah berikut:\n",
        "    1.  Inisialisasi variabel `n` dengan `len(p) - 1`\n",
        "    2.  Inisialisasi variabel `m` dengan matrix berordo (n X n) dengan default nilai 0\n",
        "    3.  Lakukan perulagnan ditampung dalam variabel `i` dengan `range(2, n + 1)`\n",
        "    4.  Lakukan perulangan lagi ditampung dalam variabel `j` dengan `range(n - 1 + 1)`\n",
        "    5.  Inisialisasi variabel `k` dengan nilai `j + i - 1`\n",
        "    6.  Lakukan perulangan sebanyak `range(j, k)` lalu ditampung dalam variabel l\n",
        "    7.  Inisialisasi variabel `q` dengan nilai `m[j][l] + m[l+1][k] + self.p[j] * \\ self.p[l+1] * self.p[k+1]`\n",
        "    8.  Jika `q` lebih kecil dari `m[j][k]` maka perbarui nilai `m[j][k]` dengan `q`\n",
        "    9.  Return `m[0][n-1]`\n",
        "5.  Selesai.\n",
        "\n",
        "**O(N ^ 3)**\n",
        "\n"
      ],
      "metadata": {
        "id": "pGlPrLkpPTO9"
      }
    },
    {
      "cell_type": "code",
      "source": [
        "import sys\n",
        "\n",
        "\n",
        "class Solve:\n",
        "    def __init__(self) -> None:\n",
        "        self.n = int(input())\n",
        "        self.p = list(map(int, input().split()))[:self.n + 1]\n",
        "        self.memo = [[-1 for _ in range(self.n + 1)]\n",
        "                     for _ in range(self.n + 1)]\n",
        "        print(self.matrix_chain_order())\n",
        "\n",
        "    def matrix_chain_order(self):\n",
        "        n = len(self.p) - 1\n",
        "        m = [[0 for _ in range(n)]\n",
        "             for _ in range(n)]\n",
        "\n",
        "        for i in range(2, n + 1):\n",
        "            for j in range(n - i + 1):\n",
        "                k = j + i - 1\n",
        "                m[j][k] = sys.maxsize\n",
        "                for l in range(j, k):\n",
        "                    q = m[j][l] + m[l+1][k] + self.p[j] * \\\n",
        "                        self.p[l+1] * self.p[k+1]\n",
        "                    if q < m[j][k]:\n",
        "                        m[j][k] = q\n",
        "\n",
        "        return m[0][n-1]\n",
        "\n",
        "\n",
        "if __name__ == \"__main__\":\n",
        "    Solve()"
      ],
      "metadata": {
        "colab": {
          "base_uri": "https://localhost:8080/"
        },
        "id": "y9KVTYMuPaeF",
        "outputId": "8aacee50-249b-477b-b740-91e38fa6c4e2"
      },
      "execution_count": 10,
      "outputs": [
        {
          "output_type": "stream",
          "name": "stdout",
          "text": [
            "4\n",
            "10 30 5 60 10\n",
            "5000\n"
          ]
        }
      ]
    }
  ]
}